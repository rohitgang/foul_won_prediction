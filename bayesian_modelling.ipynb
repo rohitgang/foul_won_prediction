{
 "cells": [
  {
   "cell_type": "code",
   "execution_count": 1,
   "id": "91216618-f630-471a-add7-f8d6a494fda2",
   "metadata": {
    "execution": {
     "iopub.execute_input": "2025-04-23T23:32:51.211488Z",
     "iopub.status.busy": "2025-04-23T23:32:51.210551Z",
     "iopub.status.idle": "2025-04-23T23:32:52.996968Z",
     "shell.execute_reply": "2025-04-23T23:32:52.996627Z",
     "shell.execute_reply.started": "2025-04-23T23:32:51.211419Z"
    }
   },
   "outputs": [],
   "source": [
    "import pandas as pd\n",
    "import numpy as np\n",
    "import matplotlib.pyplot as plt\n",
    "from pytensor import config as ptconf\n",
    "\n",
    "ptconf.cxx = \"\"\n",
    "ptconf.linker = \"py\"\n",
    "\n",
    "import pymc as pm\n",
    "import arviz as az\n"
   ]
  },
  {
   "cell_type": "markdown",
   "id": "80008a2f-c46a-4de6-8778-4ce7d168695a",
   "metadata": {},
   "source": [
    "# Bayesian Hierarchial Logistic Model\n",
    "\n",
    "## Player Foul-Commit Skill\n",
    "\n",
    "We model the probability that a player commits a foul using a Bayesian hierarchical logistic regression. This captures each player's individual foul-committing skill while borrowing strength across all players to handle variability in player sample sizes.\n",
    "\n",
    "**Model Specification**\n",
    "\n",
    "We define a hierarchical logistic regression model as follows:\n",
    "\n",
    "**Likelihood**\n",
    "\n",
    "Each observed event \\( $i$ \\) has a binary outcome:\n",
    "\n",
    "$\n",
    "y_i \\sim \\text{Bernoulli}(p_i), \\quad \\text{where} \\quad p_i = \\text{logistic}(\\eta_i)\n",
    "$\n",
    "\n",
    "The linear predictor \\( $\\eta_i$ \\) is modeled as:\n",
    "\n",
    "$\n",
    "\\eta_i = \\beta_0 + \\beta_{\\text{minute}} \\cdot minute\\_norm_i + \\beta_{\\text{home}} \\cdot is\\_home_i + \\beta_{\\text{zone}[z_i]} \\cdot zone_i + u_{\\text{player}[j[i]]}\n",
    "$\n",
    "\n",
    "**Priors**\n",
    "\n",
    "- *Global intercept and slopes*: $\\beta_0 \\sim \\mathcal{N}(0, 2), \\beta_{\\text{minute}} \\sim \\mathcal{N}(0, 1), \\beta_{\\text{home}} \\sim \\mathcal{N}(0, 1), \\beta_{\\text{zone}[z]} \\sim \\mathcal{N}(0, 1), \\quad \\text{for each zone } z$\n",
    "\n",
    "\n",
    "- *Player-level random intercepts*:\n",
    "$\n",
    "u_{\\text{player}[j]} \\sim \\mathcal{N}(0, \\sigma_{\\text{player}}), \\quad \\text{for player } j\n",
    "$\n",
    "\n",
    "- *Hyperprior for player variability*:\n",
    "$\n",
    "\\sigma_{\\text{player}} \\sim \\text{Half-Cauchy}(0, 1)\n",
    "$\n",
    "\n",
    "**Interpretation of Player Skill**\n",
    "\n",
    "The parameter $ u_{\\text{player}[j]} $ quantifies the \"foul-commit skill\" of player \\( $j$ \\). Specifically:\n",
    "\n",
    "- A positive $ u_{\\text{player}[j]} $ indicates that player $ j $ has an above-average propensity to commit fouls.\n",
    "- A negative $ u_{\\text{player}[j]} $ indicates a below-average foul-committing propensity.\n",
    "\n",
    "Due to the hierarchical structure, players with fewer touches (smaller samples) are \"shrunk\" towards the league average (partial pooling), stabilizing their estimated foul skill.\n",
    "\n",
    "**Posterior Estimation**\n",
    "\n",
    "We estimate this model using Variational Inference (ADVI), resulting in approximate posterior distributions from which we extract player-specific foul skills:\n",
    "\n",
    "$\n",
    "player\\_foul\\_skill[j] = \\mathbb{E}[u_{\\text{player}[j]} \\mid data]\n",
    "$"
   ]
  },
  {
   "cell_type": "code",
   "execution_count": 2,
   "id": "bf31b6f1-2142-4eb2-a57d-203c055f641f",
   "metadata": {
    "execution": {
     "iopub.execute_input": "2025-04-23T02:07:26.581880Z",
     "iopub.status.busy": "2025-04-23T02:07:26.581706Z",
     "iopub.status.idle": "2025-04-23T02:07:26.588015Z",
     "shell.execute_reply": "2025-04-23T02:07:26.587728Z",
     "shell.execute_reply.started": "2025-04-23T02:07:26.581870Z"
    }
   },
   "outputs": [],
   "source": [
    "match_df = pd.read_csv('epl_matches_15.csv')"
   ]
  },
  {
   "cell_type": "code",
   "execution_count": 3,
   "id": "6f0a8471-eabe-4dd9-a528-393ad7d88e5b",
   "metadata": {
    "execution": {
     "iopub.execute_input": "2025-04-23T02:07:27.089756Z",
     "iopub.status.busy": "2025-04-23T02:07:27.088875Z",
     "iopub.status.idle": "2025-04-23T02:07:31.839602Z",
     "shell.execute_reply": "2025-04-23T02:07:31.839177Z",
     "shell.execute_reply.started": "2025-04-23T02:07:27.089686Z"
    }
   },
   "outputs": [
    {
     "name": "stderr",
     "output_type": "stream",
     "text": [
      "/var/folders/xz/9p327hsj39n6prk52zdm1x4h0000gn/T/ipykernel_20973/4109943820.py:1: DtypeWarning: Columns (23) have mixed types. Specify dtype option on import or set low_memory=False.\n",
      "  events_df = pd.read_csv(\"processed_data/events.csv\")\n"
     ]
    },
    {
     "data": {
      "text/plain": [
       "type.name\n",
       "Pass                 368619\n",
       "Ball Receipt*        340324\n",
       "Carry                276949\n",
       "Pressure             115402\n",
       "Ball Recovery         40943\n",
       "Duel                  32290\n",
       "Clearance             21645\n",
       "Block                 14839\n",
       "Dribble               13721\n",
       "Goal Keeper           11777\n",
       "Miscontrol            10786\n",
       "Dispossessed          10520\n",
       "Shot                   9908\n",
       "Foul Committed         9512\n",
       "Foul Won               9112\n",
       "Interception           8920\n",
       "Dribbled Past          8771\n",
       "Half Start             1520\n",
       "Half End               1520\n",
       "Starting XI             760\n",
       "Referee Ball-Drop       272\n",
       "Offside                 109\n",
       "Own Goal For             38\n",
       "Own Goal Against         38\n",
       "Name: count, dtype: int64"
      ]
     },
     "execution_count": 3,
     "metadata": {},
     "output_type": "execute_result"
    }
   ],
   "source": [
    "events_df = pd.read_csv(\"processed_data/events.csv\")\n",
    "events_df['type.name'].value_counts()"
   ]
  },
  {
   "cell_type": "code",
   "execution_count": 4,
   "id": "fa4a394d-d51e-4b52-93c9-d0c4e208e118",
   "metadata": {
    "execution": {
     "iopub.execute_input": "2025-04-23T02:07:31.840790Z",
     "iopub.status.busy": "2025-04-23T02:07:31.840651Z",
     "iopub.status.idle": "2025-04-23T02:07:32.175598Z",
     "shell.execute_reply": "2025-04-23T02:07:32.175239Z",
     "shell.execute_reply.started": "2025-04-23T02:07:31.840777Z"
    }
   },
   "outputs": [],
   "source": [
    "events_df = events_df[\n",
    "    ~events_df['type.name'].isin(\n",
    "        ['Half Start','Half End','Starting XI','Referee Ball Drop','Offside','Goal Keeper','Own Goal','Own Goal Against']\n",
    "    )\n",
    "]"
   ]
  },
  {
   "cell_type": "code",
   "execution_count": 6,
   "id": "062a96b6-bee6-4caa-b54b-85d26b8ac93e",
   "metadata": {
    "execution": {
     "iopub.execute_input": "2025-04-23T02:07:47.902803Z",
     "iopub.status.busy": "2025-04-23T02:07:47.901413Z",
     "iopub.status.idle": "2025-04-23T02:07:47.980984Z",
     "shell.execute_reply": "2025-04-23T02:07:47.980348Z",
     "shell.execute_reply.started": "2025-04-23T02:07:47.902724Z"
    }
   },
   "outputs": [
    {
     "data": {
      "text/plain": [
       "is_foul_committed\n",
       "0    1288547\n",
       "1       9512\n",
       "Name: count, dtype: int64"
      ]
     },
     "execution_count": 6,
     "metadata": {},
     "output_type": "execute_result"
    }
   ],
   "source": [
    "events_df['is_foul_committed'] = (events_df['type.name'] == 'Foul Committed').astype(int)\n",
    "events_df.is_foul_committed.value_counts()"
   ]
  },
  {
   "cell_type": "code",
   "execution_count": 7,
   "id": "d959c059-3a0b-49f5-b5bf-001ed63688ca",
   "metadata": {
    "execution": {
     "iopub.execute_input": "2025-04-23T02:07:49.921462Z",
     "iopub.status.busy": "2025-04-23T02:07:49.920592Z",
     "iopub.status.idle": "2025-04-23T02:07:49.930654Z",
     "shell.execute_reply": "2025-04-23T02:07:49.929894Z",
     "shell.execute_reply.started": "2025-04-23T02:07:49.921390Z"
    }
   },
   "outputs": [
    {
     "data": {
      "text/plain": [
       "Index(['Unnamed: 0', 'id', 'index', 'period', 'timestamp', 'minute', 'second',\n",
       "       'possession', 'player_possession', 'duration', 'related_events',\n",
       "       'location', 'under_pressure', 'counterpress', 'type.id', 'type.name',\n",
       "       'possession_team.id', 'possession_team.name', 'play_pattern.id',\n",
       "       'play_pattern.name', 'team.id', 'team.name', 'tactics.formation',\n",
       "       'tactics.lineup', 'player.id', 'player.name', 'position.id',\n",
       "       'position.name', 'pass.length', 'pass.angle', 'pass.height.id',\n",
       "       'pass.height.name', 'pass.body_part.id', 'pass.body_part.name',\n",
       "       'pass.type.id', 'pass.type.name', 'pass.outcome.id',\n",
       "       'pass.outcome.name', 'pass.receipient.id', 'pass.recipient.name',\n",
       "       'pass.end_location', 'dribble.outcome.id', 'dribble.outcome.name',\n",
       "       'ball_receipt.outcome.id', 'ball_receipt.outcome.name',\n",
       "       'carry.end_location', 'duel.outcome.id', 'duel.outcome.name',\n",
       "       'competition_id', 'match_id', 'is_foul_won', 'is_foul_committed'],\n",
       "      dtype='object')"
      ]
     },
     "execution_count": 7,
     "metadata": {},
     "output_type": "execute_result"
    }
   ],
   "source": [
    "events_df.columns"
   ]
  },
  {
   "cell_type": "code",
   "execution_count": 8,
   "id": "187d110a-2cf0-416a-8a5b-22ffde24794b",
   "metadata": {
    "execution": {
     "iopub.execute_input": "2025-04-23T02:07:51.914197Z",
     "iopub.status.busy": "2025-04-23T02:07:51.913360Z",
     "iopub.status.idle": "2025-04-23T02:08:50.584192Z",
     "shell.execute_reply": "2025-04-23T02:08:50.583547Z",
     "shell.execute_reply.started": "2025-04-23T02:07:51.914130Z"
    }
   },
   "outputs": [],
   "source": [
    "# parse location string into floats\n",
    "\n",
    "def parse_loc(loc):\n",
    "    if isinstance(loc, str):\n",
    "        x_str, y_str = loc.split(\",\")\n",
    "        return float(x_str), float(y_str)\n",
    "    return np.nan, np.nan\n",
    "\n",
    "events_df[['x','y']] = events_df['location'].apply(lambda loc: pd.Series(parse_loc(loc)))"
   ]
  },
  {
   "cell_type": "code",
   "execution_count": 9,
   "id": "b1b55e48-7c00-45bb-ac0a-fc09d878ef31",
   "metadata": {
    "execution": {
     "iopub.execute_input": "2025-04-23T02:08:50.585691Z",
     "iopub.status.busy": "2025-04-23T02:08:50.585519Z",
     "iopub.status.idle": "2025-04-23T02:08:51.118081Z",
     "shell.execute_reply": "2025-04-23T02:08:51.117719Z",
     "shell.execute_reply.started": "2025-04-23T02:08:50.585673Z"
    }
   },
   "outputs": [],
   "source": [
    "# merge match information onto events\n",
    "events_df = events_df.drop('location', axis=1)\n",
    "events_df = events_df.merge(\n",
    "    match_df[\n",
    "        [\n",
    "            'match_id','home_team.home_team_id','match_week',\n",
    "            'home_team.managers', 'away_team.managers',\n",
    "            'referee.id', 'referee.country.id'\n",
    "        ]\n",
    "    ]\n",
    "    , on='match_id'\n",
    "    , how='left'\n",
    ")"
   ]
  },
  {
   "cell_type": "code",
   "execution_count": 11,
   "id": "f925ae62-4eab-4b11-8779-1dc133a78da9",
   "metadata": {
    "execution": {
     "iopub.execute_input": "2025-04-23T02:09:21.217997Z",
     "iopub.status.busy": "2025-04-23T02:09:21.217066Z",
     "iopub.status.idle": "2025-04-23T02:09:21.477142Z",
     "shell.execute_reply": "2025-04-23T02:09:21.476812Z",
     "shell.execute_reply.started": "2025-04-23T02:09:21.217929Z"
    }
   },
   "outputs": [],
   "source": [
    "events_df = events_df.drop('location', axis=1)"
   ]
  },
  {
   "cell_type": "code",
   "execution_count": 12,
   "id": "6c75fb68-9817-4a11-98b3-b3804cd6877e",
   "metadata": {
    "execution": {
     "iopub.execute_input": "2025-04-23T02:09:29.540386Z",
     "iopub.status.busy": "2025-04-23T02:09:29.539550Z",
     "iopub.status.idle": "2025-04-23T02:09:29.942395Z",
     "shell.execute_reply": "2025-04-23T02:09:29.941862Z",
     "shell.execute_reply.started": "2025-04-23T02:09:29.540321Z"
    }
   },
   "outputs": [],
   "source": [
    "# home/away\n",
    "events_df['is_home'] = (events_df['possession_team.id'] == events_df['home_team.home_team_id']).astype(int)\n",
    "# match week\n",
    "events_df['match_week'] = events_df['match_week'].astype(int)\n",
    "# time features\n",
    "events_df['minute'] = events_df['minute'].astype(int)\n",
    "events_df['time_remaining'] = 90 - events_df['minute']\n",
    "# approximate stoppage time flag\n",
    "events_df['is_stoppage_time'] = (\n",
    "    ((events_df['period'] == 1) & (events_df['minute'] > 45)) |\n",
    "    ((events_df['period'] == 2) & (events_df['minute'] > 90))\n",
    ")\n",
    "# phase of play\n",
    "events_df['phase_of_play'] = pd.cut(\n",
    "    events_df['minute'],\n",
    "    bins=[-1, 15, 45, 75, np.inf],\n",
    "    labels=['Early','First_half','Second_half','Endgame']\n",
    ")\n",
    "# normalized and squared minute\n",
    "events_df['minute_norm'] = (events_df['minute'] - events_df['minute'].mean()) / events_df['minute'].std()\n",
    "events_df['minute_sq'] = events_df['minute_norm'] ** 2\n",
    "# discretize location into grid\n",
    "n_x_bins = 6\n",
    "n_y_bins = 4\n",
    "penalty_box_depth= 16.5\n",
    "events_df['zone_x'] = pd.cut(events_df['x'], bins=n_x_bins, labels=False)\n",
    "events_df['zone_y'] = pd.cut(events_df['y'], bins=n_y_bins, labels=False)\n",
    "events_df['zone_id'] = events_df['zone_x'] * n_y_bins + events_df['zone_y']\n",
    "# zone type thirds\n",
    "third = n_x_bins // 3\n",
    "events_df['zone_type'] = pd.cut(\n",
    "    events_df['zone_x'],\n",
    "    bins=[-1, third-1e-6, 2*third-1e-6, n_x_bins],\n",
    "    labels=['Defensive','Midfield','Attacking']\n",
    ")\n",
    "# side of pitch\n",
    "events_df['side_of_pitch'] = events_df['zone_y'].map(\n",
    "    lambda y: 'Left' if y == 0 else\n",
    "              'Right' if y == n_y_bins-1 else\n",
    "              'Center'\n",
    ")\n",
    "# distance to opponent’s goal (normalize by max x)\n",
    "max_x = events_df['x'].max()\n",
    "events_df['distance_to_goal'] = (max_x - events_df['x']) / max_x\n",
    "# penalty area flag\n",
    "events_df['is_penalty_area'] = events_df['x'] >= (max_x - penalty_box_depth)"
   ]
  },
  {
   "cell_type": "code",
   "execution_count": 13,
   "id": "b3f4d1e4-a769-4db1-b3e8-956c8e15476a",
   "metadata": {
    "execution": {
     "iopub.execute_input": "2025-04-23T02:09:34.373077Z",
     "iopub.status.busy": "2025-04-23T02:09:34.372449Z",
     "iopub.status.idle": "2025-04-23T02:09:34.506307Z",
     "shell.execute_reply": "2025-04-23T02:09:34.505904Z",
     "shell.execute_reply.started": "2025-04-23T02:09:34.373041Z"
    }
   },
   "outputs": [],
   "source": [
    "events_df['player_code'] = pd.Categorical(events_df['player.id']).codes\n",
    "events_df['team_code'] = pd.Categorical(events_df['team.id']).codes\n",
    "events_df['ref_code'] = pd.Categorical(events_df['referee.id']).codes\n",
    "\n",
    "model_df = (\n",
    "    events_df\n",
    "    .loc[:, ['is_foul_committed',\n",
    "           'minute_norm', 'is_home',\n",
    "           'zone_id',\n",
    "           'player_code', 'team_code']]\n",
    "    .dropna()\n",
    "    .reset_index(drop=True)\n",
    "    .rename(columns={'is_foul_committed': 'y'})\n",
    ")"
   ]
  },
  {
   "cell_type": "code",
   "execution_count": 14,
   "id": "2b9b2791-9a01-4763-9ce2-5cf243961b3f",
   "metadata": {
    "execution": {
     "iopub.execute_input": "2025-04-23T02:10:16.830442Z",
     "iopub.status.busy": "2025-04-23T02:10:16.829593Z",
     "iopub.status.idle": "2025-04-23T11:40:19.041596Z",
     "shell.execute_reply": "2025-04-23T11:40:19.040373Z",
     "shell.execute_reply.started": "2025-04-23T02:10:16.830374Z"
    }
   },
   "outputs": [
    {
     "data": {
      "text/html": [
       "\n",
       "<style>\n",
       "    /* Turns off some styling */\n",
       "    progress {\n",
       "        /* gets rid of default border in Firefox and Opera. */\n",
       "        border: none;\n",
       "        /* Needs to be in here for Safari polyfill so background images work as expected. */\n",
       "        background-size: auto;\n",
       "    }\n",
       "    progress:not([value]), progress:not([value])::-webkit-progress-bar {\n",
       "        background: repeating-linear-gradient(45deg, #7e7e7e, #7e7e7e 10px, #5c5c5c 10px, #5c5c5c 20px);\n",
       "    }\n",
       "    .progress-bar-interrupted, .progress-bar-interrupted::-webkit-progress-bar {\n",
       "        background: #F44336;\n",
       "    }\n",
       "</style>\n"
      ],
      "text/plain": [
       "<IPython.core.display.HTML object>"
      ]
     },
     "metadata": {},
     "output_type": "display_data"
    },
    {
     "data": {
      "text/html": [
       "\n",
       "    <div>\n",
       "      <progress value='1000' class='' max='1000' style='width:300px; height:20px; vertical-align: middle;'></progress>\n",
       "      100.00% [1000/1000 9:29:57&lt;00:00 Average Loss = 2.0519e+05]\n",
       "    </div>\n",
       "    "
      ],
      "text/plain": [
       "<IPython.core.display.HTML object>"
      ]
     },
     "metadata": {},
     "output_type": "display_data"
    },
    {
     "name": "stderr",
     "output_type": "stream",
     "text": [
      "Finished [100%]: Average Loss = 2.0401e+05\n"
     ]
    }
   ],
   "source": [
    "coords = {\n",
    "    \"obs_id\": model_df.index.values,\n",
    "    \"zone\": np.unique(model_df['zone_id']),\n",
    "    \"player\": np.unique(model_df['player_code']),\n",
    "    \"team\": np.unique(model_df['team_code'])\n",
    "}\n",
    "\n",
    "y        = model_df['y'].values\n",
    "minute   = model_df['minute_norm'].values\n",
    "is_home  = model_df['is_home'].values\n",
    "zone     = model_df['zone_id'].astype(int).values\n",
    "p_idx    = model_df['player_code'].values\n",
    "# t_idx    = model_df['team_code'].values\n",
    "\n",
    "with pm.Model(coords=coords) as foul_commit_model:\n",
    "    # Fixed effects\n",
    "    β0       = pm.Normal(\"β0\", 0, 2)\n",
    "    β_minute = pm.Normal(\"β_minute\", 0, 1)\n",
    "    β_home   = pm.Normal(\"β_home\",   0, 1)\n",
    "    β_zone   = pm.Normal(\"β_zone\",   0, 1, dims=\"zone\")\n",
    "\n",
    "    # Hyper‑priors\n",
    "    σ_player = pm.HalfCauchy(\"σ_player\", 1)\n",
    "    # σ_team   = pm.HalfCauchy(\"σ_team\",   1)\n",
    "\n",
    "    # Non‑centred random intercepts\n",
    "    z_p = pm.Normal(\"z_player\", 0, 1, dims=\"player\")\n",
    "    # z_t = pm.Normal(\"z_team\",   0, 1, dims=\"team\")\n",
    "    u_p = pm.Deterministic(\"u_player\", z_p * σ_player)   # player foul‑commit skill\n",
    "    # v_t = pm.Deterministic(\"u_team\",   z_t * σ_team)     # team defensive style\n",
    "\n",
    "    # Linear predictor\n",
    "    η = (\n",
    "        β0\n",
    "      + β_minute * minute\n",
    "      + β_home   * is_home\n",
    "      + β_zone[zone]\n",
    "      + u_p[p_idx]\n",
    "      # + v_t[t_idx]\n",
    "    )\n",
    "\n",
    "    # Likelihood\n",
    "    pm.Bernoulli(\"obs\", logit_p=η, observed=y, dims=\"obs_id\")\n",
    "\n",
    "    # 3. ADVI (fast approximate posterior)\n",
    "    approx = pm.fit(\n",
    "        n=1000,                   # more iterations for stability\n",
    "        method=\"advi\",\n",
    "        obj_optimizer=pm.adam(learning_rate=5e-3),\n",
    "        random_seed=42\n",
    "    )\n",
    "    trace_comm = approx.sample(500)"
   ]
  },
  {
   "cell_type": "code",
   "execution_count": 20,
   "id": "a95b3531-17ae-48dc-9b77-ac769a9f4e00",
   "metadata": {
    "execution": {
     "iopub.execute_input": "2025-04-23T14:46:35.731287Z",
     "iopub.status.busy": "2025-04-23T14:46:35.730432Z",
     "iopub.status.idle": "2025-04-23T14:46:36.039359Z",
     "shell.execute_reply": "2025-04-23T14:46:36.039069Z",
     "shell.execute_reply.started": "2025-04-23T14:46:35.731216Z"
    }
   },
   "outputs": [
    {
     "data": {
      "image/png": "[encoded data removed]",
      "text/plain": [
       "<Figure size 640x480 with 1 Axes>"
      ]
     },
     "metadata": {},
     "output_type": "display_data"
    }
   ],
   "source": [
    "\n",
    "plt.plot(approx.hist, label=\"ELBO loss\")\n",
    "plt.xlabel(\"Iteration\")\n",
    "plt.ylabel(\"Average Loss\")\n",
    "plt.title(\"ADVI Loss Curve\")\n",
    "plt.legend()\n",
    "plt.show()"
   ]
  },
  {
   "cell_type": "code",
   "execution_count": 21,
   "id": "ba2b2d6e-59a1-48a9-8611-a0a0aeeb6640",
   "metadata": {
    "execution": {
     "iopub.execute_input": "2025-04-23T14:46:41.792537Z",
     "iopub.status.busy": "2025-04-23T14:46:41.791712Z",
     "iopub.status.idle": "2025-04-23T14:46:42.025923Z",
     "shell.execute_reply": "2025-04-23T14:46:42.025672Z",
     "shell.execute_reply.started": "2025-04-23T14:46:41.792471Z"
    }
   },
   "outputs": [
    {
     "name": "stderr",
     "output_type": "stream",
     "text": [
      "arviz - WARNING - Shape validation failed: input_shape: (1, 500), minimum_shape: (chains=2, draws=4)\n"
     ]
    },
    {
     "data": {
      "text/html": [
       "<div>\n",
       "<style scoped>\n",
       "    .dataframe tbody tr th:only-of-type {\n",
       "        vertical-align: middle;\n",
       "    }\n",
       "\n",
       "    .dataframe tbody tr th {\n",
       "        vertical-align: top;\n",
       "    }\n",
       "\n",
       "    .dataframe thead th {\n",
       "        text-align: right;\n",
       "    }\n",
       "</style>\n",
       "<table border=\"1\" class=\"dataframe\">\n",
       "  <thead>\n",
       "    <tr style=\"text-align: right;\">\n",
       "      <th></th>\n",
       "      <th>mean</th>\n",
       "      <th>sd</th>\n",
       "      <th>hdi_3%</th>\n",
       "      <th>hdi_97%</th>\n",
       "      <th>mcse_mean</th>\n",
       "      <th>mcse_sd</th>\n",
       "      <th>ess_bulk</th>\n",
       "      <th>ess_tail</th>\n",
       "      <th>r_hat</th>\n",
       "    </tr>\n",
       "  </thead>\n",
       "  <tbody>\n",
       "    <tr>\n",
       "      <th>β0</th>\n",
       "      <td>-1.437</td>\n",
       "      <td>0.472</td>\n",
       "      <td>-2.339</td>\n",
       "      <td>-0.593</td>\n",
       "      <td>0.023</td>\n",
       "      <td>0.016</td>\n",
       "      <td>431.383</td>\n",
       "      <td>461.604</td>\n",
       "      <td>NaN</td>\n",
       "    </tr>\n",
       "    <tr>\n",
       "      <th>β_minute</th>\n",
       "      <td>0.020</td>\n",
       "      <td>0.347</td>\n",
       "      <td>-0.575</td>\n",
       "      <td>0.652</td>\n",
       "      <td>0.018</td>\n",
       "      <td>0.013</td>\n",
       "      <td>355.492</td>\n",
       "      <td>453.360</td>\n",
       "      <td>NaN</td>\n",
       "    </tr>\n",
       "    <tr>\n",
       "      <th>β_home</th>\n",
       "      <td>-1.143</td>\n",
       "      <td>0.463</td>\n",
       "      <td>-2.095</td>\n",
       "      <td>-0.330</td>\n",
       "      <td>0.023</td>\n",
       "      <td>0.016</td>\n",
       "      <td>413.266</td>\n",
       "      <td>353.277</td>\n",
       "      <td>NaN</td>\n",
       "    </tr>\n",
       "    <tr>\n",
       "      <th>σ_player</th>\n",
       "      <td>1.722</td>\n",
       "      <td>0.980</td>\n",
       "      <td>0.446</td>\n",
       "      <td>3.349</td>\n",
       "      <td>0.046</td>\n",
       "      <td>0.032</td>\n",
       "      <td>459.316</td>\n",
       "      <td>407.545</td>\n",
       "      <td>NaN</td>\n",
       "    </tr>\n",
       "  </tbody>\n",
       "</table>\n",
       "</div>"
      ],
      "text/plain": [
       "           mean     sd  hdi_3%  hdi_97%  mcse_mean  mcse_sd  ess_bulk  \\\n",
       "β0       -1.437  0.472  -2.339   -0.593      0.023    0.016   431.383   \n",
       "β_minute  0.020  0.347  -0.575    0.652      0.018    0.013   355.492   \n",
       "β_home   -1.143  0.463  -2.095   -0.330      0.023    0.016   413.266   \n",
       "σ_player  1.722  0.980   0.446    3.349      0.046    0.032   459.316   \n",
       "\n",
       "          ess_tail  r_hat  \n",
       "β0         461.604    NaN  \n",
       "β_minute   453.360    NaN  \n",
       "β_home     353.277    NaN  \n",
       "σ_player   407.545    NaN  "
      ]
     },
     "execution_count": 21,
     "metadata": {},
     "output_type": "execute_result"
    }
   ],
   "source": [
    "az.summary(\n",
    "    trace_comm\n",
    "    , var_names=[\"β0\",\"β_minute\",\"β_home\",\"σ_player\"]\n",
    "    , round_to=3\n",
    ")"
   ]
  },
  {
   "cell_type": "code",
   "execution_count": 22,
   "id": "dc86f969-5e5c-4c1d-85aa-a7408ab2e043",
   "metadata": {
    "execution": {
     "iopub.execute_input": "2025-04-23T14:46:45.403656Z",
     "iopub.status.busy": "2025-04-23T14:46:45.402555Z",
     "iopub.status.idle": "2025-04-23T14:46:46.463831Z",
     "shell.execute_reply": "2025-04-23T14:46:46.463530Z",
     "shell.execute_reply.started": "2025-04-23T14:46:45.403606Z"
    }
   },
   "outputs": [
    {
     "data": {
      "text/plain": [
       "'bayesian_models/player_foul_skill_trace.nc'"
      ]
     },
     "execution_count": 22,
     "metadata": {},
     "output_type": "execute_result"
    }
   ],
   "source": [
    "player_commit_skill = (\n",
    "    pd.DataFrame(\n",
    "        {\n",
    "            \"player_code\": coords[\"player\"],\n",
    "            \"player_commit_skill\": trace_comm.posterior['u_player'].mean(dim=('chain','draw')).values\n",
    "        }\n",
    "    )\n",
    ")\n",
    "\n",
    "player_commit_skill.to_csv(\"processed_data/player_foul_commit_skill.csv\")\n",
    "az.to_netcdf(trace_comm, \"bayesian_models/player_foul_skill_trace.nc\")"
   ]
  },
  {
   "cell_type": "markdown",
   "id": "2a5744a5-4b37-4c86-94f8-0077e896a8ca",
   "metadata": {},
   "source": [
    "# Players Ranked By Foul Skill"
   ]
  },
  {
   "cell_type": "code",
   "execution_count": 34,
   "id": "964d9d38-87a5-43f2-b8ce-835a7eed24cf",
   "metadata": {
    "execution": {
     "iopub.execute_input": "2025-04-23T14:59:46.105913Z",
     "iopub.status.busy": "2025-04-23T14:59:46.104975Z",
     "iopub.status.idle": "2025-04-23T14:59:46.124733Z",
     "shell.execute_reply": "2025-04-23T14:59:46.123930Z",
     "shell.execute_reply.started": "2025-04-23T14:59:46.105847Z"
    }
   },
   "outputs": [
    {
     "data": {
      "text/html": [
       "<div>\n",
       "<style scoped>\n",
       "    .dataframe tbody tr th:only-of-type {\n",
       "        vertical-align: middle;\n",
       "    }\n",
       "\n",
       "    .dataframe tbody tr th {\n",
       "        vertical-align: top;\n",
       "    }\n",
       "\n",
       "    .dataframe thead th {\n",
       "        text-align: right;\n",
       "    }\n",
       "</style>\n",
       "<table border=\"1\" class=\"dataframe\">\n",
       "  <thead>\n",
       "    <tr style=\"text-align: right;\">\n",
       "      <th></th>\n",
       "      <th>player_code</th>\n",
       "      <th>player_commit_skill</th>\n",
       "    </tr>\n",
       "  </thead>\n",
       "  <tbody>\n",
       "    <tr>\n",
       "      <th>388</th>\n",
       "      <td>387</td>\n",
       "      <td>-2.171493</td>\n",
       "    </tr>\n",
       "    <tr>\n",
       "      <th>461</th>\n",
       "      <td>460</td>\n",
       "      <td>-2.168131</td>\n",
       "    </tr>\n",
       "    <tr>\n",
       "      <th>423</th>\n",
       "      <td>422</td>\n",
       "      <td>-2.128338</td>\n",
       "    </tr>\n",
       "    <tr>\n",
       "      <th>123</th>\n",
       "      <td>122</td>\n",
       "      <td>-2.118403</td>\n",
       "    </tr>\n",
       "    <tr>\n",
       "      <th>192</th>\n",
       "      <td>191</td>\n",
       "      <td>-2.114660</td>\n",
       "    </tr>\n",
       "    <tr>\n",
       "      <th>...</th>\n",
       "      <td>...</td>\n",
       "      <td>...</td>\n",
       "    </tr>\n",
       "    <tr>\n",
       "      <th>356</th>\n",
       "      <td>355</td>\n",
       "      <td>-0.683725</td>\n",
       "    </tr>\n",
       "    <tr>\n",
       "      <th>294</th>\n",
       "      <td>293</td>\n",
       "      <td>-0.654762</td>\n",
       "    </tr>\n",
       "    <tr>\n",
       "      <th>521</th>\n",
       "      <td>520</td>\n",
       "      <td>-0.602639</td>\n",
       "    </tr>\n",
       "    <tr>\n",
       "      <th>297</th>\n",
       "      <td>296</td>\n",
       "      <td>-0.326147</td>\n",
       "    </tr>\n",
       "    <tr>\n",
       "      <th>478</th>\n",
       "      <td>477</td>\n",
       "      <td>-0.231646</td>\n",
       "    </tr>\n",
       "  </tbody>\n",
       "</table>\n",
       "<p>550 rows × 2 columns</p>\n",
       "</div>"
      ],
      "text/plain": [
       "     player_code  player_commit_skill\n",
       "388          387            -2.171493\n",
       "461          460            -2.168131\n",
       "423          422            -2.128338\n",
       "123          122            -2.118403\n",
       "192          191            -2.114660\n",
       "..           ...                  ...\n",
       "356          355            -0.683725\n",
       "294          293            -0.654762\n",
       "521          520            -0.602639\n",
       "297          296            -0.326147\n",
       "478          477            -0.231646\n",
       "\n",
       "[550 rows x 2 columns]"
      ]
     },
     "execution_count": 34,
     "metadata": {},
     "output_type": "execute_result"
    }
   ],
   "source": [
    "player_commit_skill.sort_values('player_commit_skill', ascending=True)"
   ]
  },
  {
   "cell_type": "code",
   "execution_count": 2,
   "id": "e3170a2c-bb4a-4e34-90ac-cf49477b1839",
   "metadata": {
    "execution": {
     "iopub.execute_input": "2025-04-23T23:33:13.960682Z",
     "iopub.status.busy": "2025-04-23T23:33:13.959533Z",
     "iopub.status.idle": "2025-04-23T23:33:18.093638Z",
     "shell.execute_reply": "2025-04-23T23:33:18.093089Z",
     "shell.execute_reply.started": "2025-04-23T23:33:13.960623Z"
    }
   },
   "outputs": [
    {
     "name": "stderr",
     "output_type": "stream",
     "text": [
      "/var/folders/xz/9p327hsj39n6prk52zdm1x4h0000gn/T/ipykernel_31294/195672260.py:2: DtypeWarning: Columns (23) have mixed types. Specify dtype option on import or set low_memory=False.\n",
      "  events_df = pd.read_csv(\"processed_data/events.csv\")\n"
     ]
    }
   ],
   "source": [
    "player_commit_skill = pd.read_csv(\"processed_data/player_foul_commit_skill.csv\")\n",
    "events_df = pd.read_csv(\"processed_data/events.csv\")"
   ]
  },
  {
   "cell_type": "code",
   "execution_count": 3,
   "id": "54f29fd5-4b66-4791-8c4c-f042cb582c82",
   "metadata": {
    "execution": {
     "iopub.execute_input": "2025-04-23T23:33:18.094932Z",
     "iopub.status.busy": "2025-04-23T23:33:18.094824Z",
     "iopub.status.idle": "2025-04-23T23:33:18.103326Z",
     "shell.execute_reply": "2025-04-23T23:33:18.103099Z",
     "shell.execute_reply.started": "2025-04-23T23:33:18.094923Z"
    }
   },
   "outputs": [
    {
     "data": {
      "text/html": [
       "<div>\n",
       "<style scoped>\n",
       "    .dataframe tbody tr th:only-of-type {\n",
       "        vertical-align: middle;\n",
       "    }\n",
       "\n",
       "    .dataframe tbody tr th {\n",
       "        vertical-align: top;\n",
       "    }\n",
       "\n",
       "    .dataframe thead th {\n",
       "        text-align: right;\n",
       "    }\n",
       "</style>\n",
       "<table border=\"1\" class=\"dataframe\">\n",
       "  <thead>\n",
       "    <tr style=\"text-align: right;\">\n",
       "      <th></th>\n",
       "      <th>Unnamed: 0</th>\n",
       "      <th>player_code</th>\n",
       "      <th>player_commit_skill</th>\n",
       "    </tr>\n",
       "  </thead>\n",
       "  <tbody>\n",
       "    <tr>\n",
       "      <th>0</th>\n",
       "      <td>0</td>\n",
       "      <td>-1</td>\n",
       "      <td>-1.726600</td>\n",
       "    </tr>\n",
       "    <tr>\n",
       "      <th>1</th>\n",
       "      <td>1</td>\n",
       "      <td>0</td>\n",
       "      <td>-1.631009</td>\n",
       "    </tr>\n",
       "    <tr>\n",
       "      <th>2</th>\n",
       "      <td>2</td>\n",
       "      <td>1</td>\n",
       "      <td>-1.623046</td>\n",
       "    </tr>\n",
       "    <tr>\n",
       "      <th>3</th>\n",
       "      <td>3</td>\n",
       "      <td>2</td>\n",
       "      <td>-1.396845</td>\n",
       "    </tr>\n",
       "    <tr>\n",
       "      <th>4</th>\n",
       "      <td>4</td>\n",
       "      <td>3</td>\n",
       "      <td>-1.561307</td>\n",
       "    </tr>\n",
       "  </tbody>\n",
       "</table>\n",
       "</div>"
      ],
      "text/plain": [
       "   Unnamed: 0  player_code  player_commit_skill\n",
       "0           0           -1            -1.726600\n",
       "1           1            0            -1.631009\n",
       "2           2            1            -1.623046\n",
       "3           3            2            -1.396845\n",
       "4           4            3            -1.561307"
      ]
     },
     "execution_count": 3,
     "metadata": {},
     "output_type": "execute_result"
    }
   ],
   "source": [
    "player_commit_skill.head()"
   ]
  },
  {
   "cell_type": "code",
   "execution_count": 4,
   "id": "8f43ff80-9a16-4b2d-a61d-47379befeef3",
   "metadata": {
    "execution": {
     "iopub.execute_input": "2025-04-23T23:33:23.366936Z",
     "iopub.status.busy": "2025-04-23T23:33:23.366328Z",
     "iopub.status.idle": "2025-04-23T23:33:23.373184Z",
     "shell.execute_reply": "2025-04-23T23:33:23.372357Z",
     "shell.execute_reply.started": "2025-04-23T23:33:23.366898Z"
    }
   },
   "outputs": [
    {
     "data": {
      "text/plain": [
       "(550, 3)"
      ]
     },
     "execution_count": 4,
     "metadata": {},
     "output_type": "execute_result"
    }
   ],
   "source": [
    "player_commit_skill.shape"
   ]
  },
  {
   "cell_type": "code",
   "execution_count": 14,
   "id": "38213d40-1b1d-4124-a87d-737d96abb7d6",
   "metadata": {
    "execution": {
     "iopub.execute_input": "2025-04-23T23:40:12.187856Z",
     "iopub.status.busy": "2025-04-23T23:40:12.187078Z",
     "iopub.status.idle": "2025-04-23T23:40:12.374601Z",
     "shell.execute_reply": "2025-04-23T23:40:12.374212Z",
     "shell.execute_reply.started": "2025-04-23T23:40:12.187789Z"
    }
   },
   "outputs": [],
   "source": [
    "events_df['player_code'] = pd.Categorical(events_df['player.id']).codes\n",
    "player_info = events_df[['player_code','player.name','position.name']].drop_duplicates(\n",
    "    subset=['player_code','player.name','position.name'], keep='first'\n",
    ")"
   ]
  },
  {
   "cell_type": "code",
   "execution_count": 17,
   "id": "afc45c69-cace-4b54-a699-0563bdb35bff",
   "metadata": {
    "execution": {
     "iopub.execute_input": "2025-04-23T23:41:16.915090Z",
     "iopub.status.busy": "2025-04-23T23:41:16.914511Z",
     "iopub.status.idle": "2025-04-23T23:41:16.925894Z",
     "shell.execute_reply": "2025-04-23T23:41:16.925110Z",
     "shell.execute_reply.started": "2025-04-23T23:41:16.915055Z"
    }
   },
   "outputs": [],
   "source": [
    "player_info = player_info.sort_values('player_code').reset_index(drop=True)\n",
    "player_commit_skill = player_commit_skill.sort_values('player_code').reset_index(drop=True)\n",
    "\n",
    "player_commit_skill['player_name'] = player_info['player.name']\n",
    "player_commit_skill['player_position'] = player_info['position.name']"
   ]
  },
  {
   "cell_type": "code",
   "execution_count": 18,
   "id": "ce38cfe1-4e1d-497f-b6e9-bbdd5f949a8e",
   "metadata": {
    "execution": {
     "iopub.execute_input": "2025-04-23T23:41:18.244766Z",
     "iopub.status.busy": "2025-04-23T23:41:18.243834Z",
     "iopub.status.idle": "2025-04-23T23:41:18.257849Z",
     "shell.execute_reply": "2025-04-23T23:41:18.257228Z",
     "shell.execute_reply.started": "2025-04-23T23:41:18.244699Z"
    }
   },
   "outputs": [
    {
     "data": {
      "text/html": [
       "<div>\n",
       "<style scoped>\n",
       "    .dataframe tbody tr th:only-of-type {\n",
       "        vertical-align: middle;\n",
       "    }\n",
       "\n",
       "    .dataframe tbody tr th {\n",
       "        vertical-align: top;\n",
       "    }\n",
       "\n",
       "    .dataframe thead th {\n",
       "        text-align: right;\n",
       "    }\n",
       "</style>\n",
       "<table border=\"1\" class=\"dataframe\">\n",
       "  <thead>\n",
       "    <tr style=\"text-align: right;\">\n",
       "      <th></th>\n",
       "      <th>level_0</th>\n",
       "      <th>index</th>\n",
       "      <th>Unnamed: 0</th>\n",
       "      <th>player_code</th>\n",
       "      <th>player_commit_skill</th>\n",
       "      <th>player_name</th>\n",
       "      <th>player_position</th>\n",
       "    </tr>\n",
       "  </thead>\n",
       "  <tbody>\n",
       "    <tr>\n",
       "      <th>0</th>\n",
       "      <td>0</td>\n",
       "      <td>0</td>\n",
       "      <td>0</td>\n",
       "      <td>-1</td>\n",
       "      <td>-1.726600</td>\n",
       "      <td>NaN</td>\n",
       "      <td>NaN</td>\n",
       "    </tr>\n",
       "    <tr>\n",
       "      <th>1</th>\n",
       "      <td>1</td>\n",
       "      <td>1</td>\n",
       "      <td>1</td>\n",
       "      <td>0</td>\n",
       "      <td>-1.631009</td>\n",
       "      <td>Bertrand Isidore Traoré</td>\n",
       "      <td>Left Wing Back</td>\n",
       "    </tr>\n",
       "    <tr>\n",
       "      <th>2</th>\n",
       "      <td>2</td>\n",
       "      <td>2</td>\n",
       "      <td>2</td>\n",
       "      <td>1</td>\n",
       "      <td>-1.623046</td>\n",
       "      <td>Bertrand Isidore Traoré</td>\n",
       "      <td>Right Defensive Midfield</td>\n",
       "    </tr>\n",
       "    <tr>\n",
       "      <th>3</th>\n",
       "      <td>3</td>\n",
       "      <td>3</td>\n",
       "      <td>3</td>\n",
       "      <td>2</td>\n",
       "      <td>-1.396845</td>\n",
       "      <td>Bertrand Isidore Traoré</td>\n",
       "      <td>Center Attacking Midfield</td>\n",
       "    </tr>\n",
       "    <tr>\n",
       "      <th>4</th>\n",
       "      <td>4</td>\n",
       "      <td>4</td>\n",
       "      <td>4</td>\n",
       "      <td>3</td>\n",
       "      <td>-1.561307</td>\n",
       "      <td>Bertrand Isidore Traoré</td>\n",
       "      <td>Right Wing</td>\n",
       "    </tr>\n",
       "  </tbody>\n",
       "</table>\n",
       "</div>"
      ],
      "text/plain": [
       "   level_0  index  Unnamed: 0  player_code  player_commit_skill  \\\n",
       "0        0      0           0           -1            -1.726600   \n",
       "1        1      1           1            0            -1.631009   \n",
       "2        2      2           2            1            -1.623046   \n",
       "3        3      3           3            2            -1.396845   \n",
       "4        4      4           4            3            -1.561307   \n",
       "\n",
       "               player_name            player_position  \n",
       "0                      NaN                        NaN  \n",
       "1  Bertrand Isidore Traoré             Left Wing Back  \n",
       "2  Bertrand Isidore Traoré   Right Defensive Midfield  \n",
       "3  Bertrand Isidore Traoré  Center Attacking Midfield  \n",
       "4  Bertrand Isidore Traoré                 Right Wing  "
      ]
     },
     "execution_count": 18,
     "metadata": {},
     "output_type": "execute_result"
    }
   ],
   "source": [
    "player_commit_skill.head()"
   ]
  },
  {
   "cell_type": "code",
   "execution_count": 21,
   "id": "8cfec0dc-ede3-457c-8687-eac2c58d37f2",
   "metadata": {
    "execution": {
     "iopub.execute_input": "2025-04-23T23:44:31.975143Z",
     "iopub.status.busy": "2025-04-23T23:44:31.973461Z",
     "iopub.status.idle": "2025-04-23T23:44:31.997788Z",
     "shell.execute_reply": "2025-04-23T23:44:31.997424Z",
     "shell.execute_reply.started": "2025-04-23T23:44:31.975064Z"
    }
   },
   "outputs": [
    {
     "data": {
      "text/html": [
       "<div>\n",
       "<style scoped>\n",
       "    .dataframe tbody tr th:only-of-type {\n",
       "        vertical-align: middle;\n",
       "    }\n",
       "\n",
       "    .dataframe tbody tr th {\n",
       "        vertical-align: top;\n",
       "    }\n",
       "\n",
       "    .dataframe thead th {\n",
       "        text-align: right;\n",
       "    }\n",
       "</style>\n",
       "<table border=\"1\" class=\"dataframe\">\n",
       "  <thead>\n",
       "    <tr style=\"text-align: right;\">\n",
       "      <th></th>\n",
       "      <th>player_name</th>\n",
       "      <th>player_position</th>\n",
       "      <th>player_commit_skill</th>\n",
       "    </tr>\n",
       "  </thead>\n",
       "  <tbody>\n",
       "    <tr>\n",
       "      <th>478</th>\n",
       "      <td>Kurt Happy Zouma</td>\n",
       "      <td>Right Back</td>\n",
       "      <td>-0.231646</td>\n",
       "    </tr>\n",
       "    <tr>\n",
       "      <th>297</th>\n",
       "      <td>Tom Carroll</td>\n",
       "      <td>Center Forward</td>\n",
       "      <td>-0.326147</td>\n",
       "    </tr>\n",
       "    <tr>\n",
       "      <th>521</th>\n",
       "      <td>Willian Borges da Silva</td>\n",
       "      <td>Right Midfield</td>\n",
       "      <td>-0.602639</td>\n",
       "    </tr>\n",
       "    <tr>\n",
       "      <th>294</th>\n",
       "      <td>Tom Carroll</td>\n",
       "      <td>Right Defensive Midfield</td>\n",
       "      <td>-0.654762</td>\n",
       "    </tr>\n",
       "    <tr>\n",
       "      <th>356</th>\n",
       "      <td>Kyle Naughton</td>\n",
       "      <td>Right Wing</td>\n",
       "      <td>-0.683725</td>\n",
       "    </tr>\n",
       "    <tr>\n",
       "      <th>487</th>\n",
       "      <td>Jack Frank Porteous Cork</td>\n",
       "      <td>Center Defensive Midfield</td>\n",
       "      <td>-0.720607</td>\n",
       "    </tr>\n",
       "    <tr>\n",
       "      <th>352</th>\n",
       "      <td>Kyle Naughton</td>\n",
       "      <td>Right Wing Back</td>\n",
       "      <td>-0.733785</td>\n",
       "    </tr>\n",
       "    <tr>\n",
       "      <th>526</th>\n",
       "      <td>James Philip Milner</td>\n",
       "      <td>Left Wing</td>\n",
       "      <td>-0.789893</td>\n",
       "    </tr>\n",
       "    <tr>\n",
       "      <th>322</th>\n",
       "      <td>Marko Arnautović</td>\n",
       "      <td>Left Wing</td>\n",
       "      <td>-0.808795</td>\n",
       "    </tr>\n",
       "    <tr>\n",
       "      <th>289</th>\n",
       "      <td>Kieran Trippier</td>\n",
       "      <td>Right Wing Back</td>\n",
       "      <td>-0.830019</td>\n",
       "    </tr>\n",
       "    <tr>\n",
       "      <th>540</th>\n",
       "      <td>Francesc Fàbregas i Soler</td>\n",
       "      <td>Right Wing</td>\n",
       "      <td>-0.953844</td>\n",
       "    </tr>\n",
       "    <tr>\n",
       "      <th>255</th>\n",
       "      <td>Marouane Fellaini-Bakkioui</td>\n",
       "      <td>Center Forward</td>\n",
       "      <td>-0.978174</td>\n",
       "    </tr>\n",
       "    <tr>\n",
       "      <th>69</th>\n",
       "      <td>Paul Dummett</td>\n",
       "      <td>Left Wing Back</td>\n",
       "      <td>-1.027973</td>\n",
       "    </tr>\n",
       "    <tr>\n",
       "      <th>258</th>\n",
       "      <td>Marouane Fellaini-Bakkioui</td>\n",
       "      <td>Left Center Midfield</td>\n",
       "      <td>-1.068511</td>\n",
       "    </tr>\n",
       "    <tr>\n",
       "      <th>119</th>\n",
       "      <td>Nicolás Hernán Otamendi</td>\n",
       "      <td>Left Center Back</td>\n",
       "      <td>-1.079816</td>\n",
       "    </tr>\n",
       "    <tr>\n",
       "      <th>379</th>\n",
       "      <td>André Ayew Pelé</td>\n",
       "      <td>Left Midfield</td>\n",
       "      <td>-1.118718</td>\n",
       "    </tr>\n",
       "    <tr>\n",
       "      <th>403</th>\n",
       "      <td>Nemanja Matić</td>\n",
       "      <td>Center Attacking Midfield</td>\n",
       "      <td>-1.121891</td>\n",
       "    </tr>\n",
       "    <tr>\n",
       "      <th>362</th>\n",
       "      <td>Dan Gosling</td>\n",
       "      <td>Left Center Forward</td>\n",
       "      <td>-1.168953</td>\n",
       "    </tr>\n",
       "    <tr>\n",
       "      <th>542</th>\n",
       "      <td>Francesc Fàbregas i Soler</td>\n",
       "      <td>Right Wing Back</td>\n",
       "      <td>-1.184010</td>\n",
       "    </tr>\n",
       "    <tr>\n",
       "      <th>96</th>\n",
       "      <td>Glenn Murray</td>\n",
       "      <td>Right Midfield</td>\n",
       "      <td>-1.186828</td>\n",
       "    </tr>\n",
       "  </tbody>\n",
       "</table>\n",
       "</div>"
      ],
      "text/plain": [
       "                    player_name            player_position  \\\n",
       "478            Kurt Happy Zouma                 Right Back   \n",
       "297                 Tom Carroll             Center Forward   \n",
       "521     Willian Borges da Silva             Right Midfield   \n",
       "294                 Tom Carroll   Right Defensive Midfield   \n",
       "356               Kyle Naughton                 Right Wing   \n",
       "487    Jack Frank Porteous Cork  Center Defensive Midfield   \n",
       "352               Kyle Naughton            Right Wing Back   \n",
       "526         James Philip Milner                  Left Wing   \n",
       "322            Marko Arnautović                  Left Wing   \n",
       "289             Kieran Trippier            Right Wing Back   \n",
       "540   Francesc Fàbregas i Soler                 Right Wing   \n",
       "255  Marouane Fellaini-Bakkioui             Center Forward   \n",
       "69                 Paul Dummett             Left Wing Back   \n",
       "258  Marouane Fellaini-Bakkioui       Left Center Midfield   \n",
       "119     Nicolás Hernán Otamendi           Left Center Back   \n",
       "379             André Ayew Pelé              Left Midfield   \n",
       "403               Nemanja Matić  Center Attacking Midfield   \n",
       "362                 Dan Gosling        Left Center Forward   \n",
       "542   Francesc Fàbregas i Soler            Right Wing Back   \n",
       "96                 Glenn Murray             Right Midfield   \n",
       "\n",
       "     player_commit_skill  \n",
       "478            -0.231646  \n",
       "297            -0.326147  \n",
       "521            -0.602639  \n",
       "294            -0.654762  \n",
       "356            -0.683725  \n",
       "487            -0.720607  \n",
       "352            -0.733785  \n",
       "526            -0.789893  \n",
       "322            -0.808795  \n",
       "289            -0.830019  \n",
       "540            -0.953844  \n",
       "255            -0.978174  \n",
       "69             -1.027973  \n",
       "258            -1.068511  \n",
       "119            -1.079816  \n",
       "379            -1.118718  \n",
       "403            -1.121891  \n",
       "362            -1.168953  \n",
       "542            -1.184010  \n",
       "96             -1.186828  "
      ]
     },
     "execution_count": 21,
     "metadata": {},
     "output_type": "execute_result"
    }
   ],
   "source": [
    "player_commit_skill.sort_values('player_commit_skill',ascending=False)[['player_name','player_position','player_commit_skill']].head(20)"
   ]
  },
  {
   "cell_type": "markdown",
   "id": "cccaab5d-4de6-45f0-bf03-bdc893ad02a8",
   "metadata": {},
   "source": [
    "The hierarchical model identifies wide defenders/wingers and defensive midfielders as the most foul-prone roles, with certain individuals (e.g., Fàbregas, Matić) standing out for tactical fouling despite playing in possession-oriented teams. Positive-skill (below-average fouling) players are absent from this tranche, indicating the table shows only the “highest-risk” cohort.\n",
    "\n",
    "Beyond the values, looking at the player names and their positions does show that even though our bayesian model is a bit naive, it is able to rate players who commit fouls and are in position to commit fouls higher."
   ]
  },
  {
   "cell_type": "code",
   "execution_count": null,
   "id": "b279c89f-948a-4598-a1f3-3bf023015175",
   "metadata": {},
   "outputs": [],
   "source": []
  }
 ],
 "metadata": {
  "kernelspec": {
   "display_name": "Python 3 (ipykernel)",
   "language": "python",
   "name": "python3"
  },
  "language_info": {
   "codemirror_mode": {
    "name": "ipython",
    "version": 3
   },
   "file_extension": ".py",
   "mimetype": "text/x-python",
   "name": "python",
   "nbconvert_exporter": "python",
   "pygments_lexer": "ipython3",
   "version": "3.9.22"
  }
 },
 "nbformat": 4,
 "nbformat_minor": 5
}
